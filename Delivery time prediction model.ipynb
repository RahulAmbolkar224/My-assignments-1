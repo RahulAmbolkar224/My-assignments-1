{
 "cells": [
  {
   "cell_type": "code",
   "execution_count": 7,
   "id": "2dc1fc6a",
   "metadata": {},
   "outputs": [],
   "source": [
    "import os\n",
    "import pandas as pd\n",
    "import seaborn as sns\n",
    "import matplotlib.pyplot as plt"
   ]
  },
  {
   "cell_type": "code",
   "execution_count": 8,
   "id": "d3aa48d3",
   "metadata": {},
   "outputs": [],
   "source": [
    "path = 'C:\\Top Mentor Datasets'"
   ]
  },
  {
   "cell_type": "code",
   "execution_count": 9,
   "id": "a901bbdb",
   "metadata": {},
   "outputs": [],
   "source": [
    "os.chdir(path)"
   ]
  },
  {
   "cell_type": "code",
   "execution_count": 10,
   "id": "af774be3",
   "metadata": {},
   "outputs": [
    {
     "data": {
      "text/plain": [
       "'C:\\\\Top Mentor Datasets'"
      ]
     },
     "execution_count": 10,
     "metadata": {},
     "output_type": "execute_result"
    }
   ],
   "source": [
    "pwd"
   ]
  },
  {
   "cell_type": "code",
   "execution_count": 11,
   "id": "f655d8a5",
   "metadata": {},
   "outputs": [
    {
     "data": {
      "text/html": [
       "<div>\n",
       "<style scoped>\n",
       "    .dataframe tbody tr th:only-of-type {\n",
       "        vertical-align: middle;\n",
       "    }\n",
       "\n",
       "    .dataframe tbody tr th {\n",
       "        vertical-align: top;\n",
       "    }\n",
       "\n",
       "    .dataframe thead th {\n",
       "        text-align: right;\n",
       "    }\n",
       "</style>\n",
       "<table border=\"1\" class=\"dataframe\">\n",
       "  <thead>\n",
       "    <tr style=\"text-align: right;\">\n",
       "      <th></th>\n",
       "      <th>Delivery Time(x)</th>\n",
       "      <th>dt 2 (x^2)</th>\n",
       "      <th>dt 3 (x^3)</th>\n",
       "      <th>dt 4 (x^4)</th>\n",
       "      <th>Sorting Time</th>\n",
       "    </tr>\n",
       "  </thead>\n",
       "  <tbody>\n",
       "    <tr>\n",
       "      <th>0</th>\n",
       "      <td>21.00</td>\n",
       "      <td>441.0000</td>\n",
       "      <td>9261.000000</td>\n",
       "      <td>194481.00000</td>\n",
       "      <td>10</td>\n",
       "    </tr>\n",
       "    <tr>\n",
       "      <th>1</th>\n",
       "      <td>13.50</td>\n",
       "      <td>182.2500</td>\n",
       "      <td>2460.375000</td>\n",
       "      <td>33215.06250</td>\n",
       "      <td>4</td>\n",
       "    </tr>\n",
       "    <tr>\n",
       "      <th>2</th>\n",
       "      <td>19.75</td>\n",
       "      <td>390.0625</td>\n",
       "      <td>7703.734375</td>\n",
       "      <td>152148.75390</td>\n",
       "      <td>6</td>\n",
       "    </tr>\n",
       "    <tr>\n",
       "      <th>3</th>\n",
       "      <td>24.00</td>\n",
       "      <td>576.0000</td>\n",
       "      <td>13824.000000</td>\n",
       "      <td>331776.00000</td>\n",
       "      <td>9</td>\n",
       "    </tr>\n",
       "    <tr>\n",
       "      <th>4</th>\n",
       "      <td>29.00</td>\n",
       "      <td>841.0000</td>\n",
       "      <td>24389.000000</td>\n",
       "      <td>707281.00000</td>\n",
       "      <td>10</td>\n",
       "    </tr>\n",
       "    <tr>\n",
       "      <th>5</th>\n",
       "      <td>15.35</td>\n",
       "      <td>235.6225</td>\n",
       "      <td>3616.805375</td>\n",
       "      <td>55517.96251</td>\n",
       "      <td>6</td>\n",
       "    </tr>\n",
       "    <tr>\n",
       "      <th>6</th>\n",
       "      <td>19.00</td>\n",
       "      <td>361.0000</td>\n",
       "      <td>6859.000000</td>\n",
       "      <td>130321.00000</td>\n",
       "      <td>7</td>\n",
       "    </tr>\n",
       "    <tr>\n",
       "      <th>7</th>\n",
       "      <td>9.50</td>\n",
       "      <td>90.2500</td>\n",
       "      <td>857.375000</td>\n",
       "      <td>8145.06250</td>\n",
       "      <td>3</td>\n",
       "    </tr>\n",
       "    <tr>\n",
       "      <th>8</th>\n",
       "      <td>17.90</td>\n",
       "      <td>320.4100</td>\n",
       "      <td>5735.339000</td>\n",
       "      <td>102662.56810</td>\n",
       "      <td>10</td>\n",
       "    </tr>\n",
       "    <tr>\n",
       "      <th>9</th>\n",
       "      <td>18.75</td>\n",
       "      <td>351.5625</td>\n",
       "      <td>6591.796875</td>\n",
       "      <td>123596.19140</td>\n",
       "      <td>9</td>\n",
       "    </tr>\n",
       "    <tr>\n",
       "      <th>10</th>\n",
       "      <td>19.83</td>\n",
       "      <td>393.2289</td>\n",
       "      <td>7797.729087</td>\n",
       "      <td>154628.96780</td>\n",
       "      <td>8</td>\n",
       "    </tr>\n",
       "    <tr>\n",
       "      <th>11</th>\n",
       "      <td>10.75</td>\n",
       "      <td>115.5625</td>\n",
       "      <td>1242.296875</td>\n",
       "      <td>13354.69141</td>\n",
       "      <td>4</td>\n",
       "    </tr>\n",
       "    <tr>\n",
       "      <th>12</th>\n",
       "      <td>16.68</td>\n",
       "      <td>278.2224</td>\n",
       "      <td>4640.749632</td>\n",
       "      <td>77407.70386</td>\n",
       "      <td>7</td>\n",
       "    </tr>\n",
       "    <tr>\n",
       "      <th>13</th>\n",
       "      <td>11.50</td>\n",
       "      <td>132.2500</td>\n",
       "      <td>1520.875000</td>\n",
       "      <td>17490.06250</td>\n",
       "      <td>3</td>\n",
       "    </tr>\n",
       "    <tr>\n",
       "      <th>14</th>\n",
       "      <td>12.03</td>\n",
       "      <td>144.7209</td>\n",
       "      <td>1740.992427</td>\n",
       "      <td>20944.13890</td>\n",
       "      <td>3</td>\n",
       "    </tr>\n",
       "    <tr>\n",
       "      <th>15</th>\n",
       "      <td>14.88</td>\n",
       "      <td>221.4144</td>\n",
       "      <td>3294.646272</td>\n",
       "      <td>49024.33653</td>\n",
       "      <td>4</td>\n",
       "    </tr>\n",
       "    <tr>\n",
       "      <th>16</th>\n",
       "      <td>13.75</td>\n",
       "      <td>189.0625</td>\n",
       "      <td>2599.609375</td>\n",
       "      <td>35744.62891</td>\n",
       "      <td>6</td>\n",
       "    </tr>\n",
       "    <tr>\n",
       "      <th>17</th>\n",
       "      <td>18.11</td>\n",
       "      <td>327.9721</td>\n",
       "      <td>5939.574731</td>\n",
       "      <td>107565.69840</td>\n",
       "      <td>7</td>\n",
       "    </tr>\n",
       "    <tr>\n",
       "      <th>18</th>\n",
       "      <td>8.00</td>\n",
       "      <td>64.0000</td>\n",
       "      <td>512.000000</td>\n",
       "      <td>4096.00000</td>\n",
       "      <td>2</td>\n",
       "    </tr>\n",
       "    <tr>\n",
       "      <th>19</th>\n",
       "      <td>17.83</td>\n",
       "      <td>317.9089</td>\n",
       "      <td>5668.315687</td>\n",
       "      <td>101066.06870</td>\n",
       "      <td>7</td>\n",
       "    </tr>\n",
       "    <tr>\n",
       "      <th>20</th>\n",
       "      <td>21.50</td>\n",
       "      <td>462.2500</td>\n",
       "      <td>9938.375000</td>\n",
       "      <td>213675.06250</td>\n",
       "      <td>5</td>\n",
       "    </tr>\n",
       "  </tbody>\n",
       "</table>\n",
       "</div>"
      ],
      "text/plain": [
       "    Delivery Time(x)  dt 2 (x^2)    dt 3 (x^3)    dt 4 (x^4)  Sorting Time\n",
       "0              21.00    441.0000   9261.000000  194481.00000            10\n",
       "1              13.50    182.2500   2460.375000   33215.06250             4\n",
       "2              19.75    390.0625   7703.734375  152148.75390             6\n",
       "3              24.00    576.0000  13824.000000  331776.00000             9\n",
       "4              29.00    841.0000  24389.000000  707281.00000            10\n",
       "5              15.35    235.6225   3616.805375   55517.96251             6\n",
       "6              19.00    361.0000   6859.000000  130321.00000             7\n",
       "7               9.50     90.2500    857.375000    8145.06250             3\n",
       "8              17.90    320.4100   5735.339000  102662.56810            10\n",
       "9              18.75    351.5625   6591.796875  123596.19140             9\n",
       "10             19.83    393.2289   7797.729087  154628.96780             8\n",
       "11             10.75    115.5625   1242.296875   13354.69141             4\n",
       "12             16.68    278.2224   4640.749632   77407.70386             7\n",
       "13             11.50    132.2500   1520.875000   17490.06250             3\n",
       "14             12.03    144.7209   1740.992427   20944.13890             3\n",
       "15             14.88    221.4144   3294.646272   49024.33653             4\n",
       "16             13.75    189.0625   2599.609375   35744.62891             6\n",
       "17             18.11    327.9721   5939.574731  107565.69840             7\n",
       "18              8.00     64.0000    512.000000    4096.00000             2\n",
       "19             17.83    317.9089   5668.315687  101066.06870             7\n",
       "20             21.50    462.2500   9938.375000  213675.06250             5"
      ]
     },
     "execution_count": 11,
     "metadata": {},
     "output_type": "execute_result"
    }
   ],
   "source": [
    "data = pd.read_csv('delivery_time_values.csv')\n",
    "data"
   ]
  },
  {
   "cell_type": "markdown",
   "id": "2f317957",
   "metadata": {},
   "source": [
    "# Delivery time ,Sorting Time Prediction"
   ]
  },
  {
   "cell_type": "code",
   "execution_count": 21,
   "id": "72f4cd7c",
   "metadata": {},
   "outputs": [],
   "source": [
    "x = data['Delivery Time'].values\n",
    "y = data['Sorting Time'].values"
   ]
  },
  {
   "cell_type": "code",
   "execution_count": 24,
   "id": "f9850705",
   "metadata": {
    "collapsed": true
   },
   "outputs": [
    {
     "data": {
      "text/plain": [
       "array([[21.  ],\n",
       "       [13.5 ],\n",
       "       [19.75],\n",
       "       [24.  ],\n",
       "       [29.  ],\n",
       "       [15.35],\n",
       "       [19.  ],\n",
       "       [ 9.5 ],\n",
       "       [17.9 ],\n",
       "       [18.75],\n",
       "       [19.83],\n",
       "       [10.75],\n",
       "       [16.68],\n",
       "       [11.5 ],\n",
       "       [12.03],\n",
       "       [14.88],\n",
       "       [13.75],\n",
       "       [18.11],\n",
       "       [ 8.  ],\n",
       "       [17.83],\n",
       "       [21.5 ]])"
      ]
     },
     "execution_count": 24,
     "metadata": {},
     "output_type": "execute_result"
    }
   ],
   "source": [
    "x = x.reshape(-1,1)\n",
    "x"
   ]
  },
  {
   "cell_type": "code",
   "execution_count": 25,
   "id": "6f954897",
   "metadata": {
    "collapsed": true
   },
   "outputs": [
    {
     "data": {
      "text/plain": [
       "array([[10],\n",
       "       [ 4],\n",
       "       [ 6],\n",
       "       [ 9],\n",
       "       [10],\n",
       "       [ 6],\n",
       "       [ 7],\n",
       "       [ 3],\n",
       "       [10],\n",
       "       [ 9],\n",
       "       [ 8],\n",
       "       [ 4],\n",
       "       [ 7],\n",
       "       [ 3],\n",
       "       [ 3],\n",
       "       [ 4],\n",
       "       [ 6],\n",
       "       [ 7],\n",
       "       [ 2],\n",
       "       [ 7],\n",
       "       [ 5]], dtype=int64)"
      ]
     },
     "execution_count": 25,
     "metadata": {},
     "output_type": "execute_result"
    }
   ],
   "source": [
    "y = y.reshape(-1,1)\n",
    "y"
   ]
  },
  {
   "cell_type": "code",
   "execution_count": 27,
   "id": "b733ac79",
   "metadata": {},
   "outputs": [],
   "source": [
    "from sklearn.linear_model import LinearRegression"
   ]
  },
  {
   "cell_type": "code",
   "execution_count": 28,
   "id": "36794433",
   "metadata": {},
   "outputs": [],
   "source": [
    "lin = LinearRegression()"
   ]
  },
  {
   "cell_type": "code",
   "execution_count": 29,
   "id": "4e198f00",
   "metadata": {},
   "outputs": [
    {
     "data": {
      "text/plain": [
       "LinearRegression()"
      ]
     },
     "execution_count": 29,
     "metadata": {},
     "output_type": "execute_result"
    }
   ],
   "source": [
    "lin.fit(x,y)"
   ]
  },
  {
   "cell_type": "code",
   "execution_count": 34,
   "id": "e8a22c84",
   "metadata": {},
   "outputs": [
    {
     "data": {
      "text/plain": [
       "[<matplotlib.lines.Line2D at 0x1c253052b50>]"
      ]
     },
     "execution_count": 34,
     "metadata": {},
     "output_type": "execute_result"
    },
    {
     "data": {
      "image/png": "[encoded data removed]",
      "text/plain": [
       "<Figure size 432x288 with 1 Axes>"
      ]
     },
     "metadata": {
      "needs_background": "light"
     },
     "output_type": "display_data"
    }
   ],
   "source": [
    "plt.scatter(x,y,color='blue')\n",
    "plt.plot(x,lin.predict(x),color = 'red')"
   ]
  },
  {
   "cell_type": "markdown",
   "id": "0923bfe6",
   "metadata": {},
   "source": [
    "# dt 2 (x^2),Sorting Time Prediction"
   ]
  },
  {
   "cell_type": "code",
   "execution_count": 24,
   "id": "6737e8b1",
   "metadata": {},
   "outputs": [],
   "source": [
    "x2 = data['dt 2 (x^2)'].values\n",
    "y2 = data['Sorting Time'].values"
   ]
  },
  {
   "cell_type": "code",
   "execution_count": 25,
   "id": "3fa44ea2",
   "metadata": {
    "collapsed": true
   },
   "outputs": [
    {
     "data": {
      "text/plain": [
       "array([[441.    ],\n",
       "       [182.25  ],\n",
       "       [390.0625],\n",
       "       [576.    ],\n",
       "       [841.    ],\n",
       "       [235.6225],\n",
       "       [361.    ],\n",
       "       [ 90.25  ],\n",
       "       [320.41  ],\n",
       "       [351.5625],\n",
       "       [393.2289],\n",
       "       [115.5625],\n",
       "       [278.2224],\n",
       "       [132.25  ],\n",
       "       [144.7209],\n",
       "       [221.4144],\n",
       "       [189.0625],\n",
       "       [327.9721],\n",
       "       [ 64.    ],\n",
       "       [317.9089],\n",
       "       [462.25  ]])"
      ]
     },
     "execution_count": 25,
     "metadata": {},
     "output_type": "execute_result"
    }
   ],
   "source": [
    "x2 = x2.reshape(-1,1)\n",
    "x2"
   ]
  },
  {
   "cell_type": "code",
   "execution_count": 26,
   "id": "e57fd30a",
   "metadata": {
    "collapsed": true
   },
   "outputs": [
    {
     "data": {
      "text/plain": [
       "array([[10],\n",
       "       [ 4],\n",
       "       [ 6],\n",
       "       [ 9],\n",
       "       [10],\n",
       "       [ 6],\n",
       "       [ 7],\n",
       "       [ 3],\n",
       "       [10],\n",
       "       [ 9],\n",
       "       [ 8],\n",
       "       [ 4],\n",
       "       [ 7],\n",
       "       [ 3],\n",
       "       [ 3],\n",
       "       [ 4],\n",
       "       [ 6],\n",
       "       [ 7],\n",
       "       [ 2],\n",
       "       [ 7],\n",
       "       [ 5]], dtype=int64)"
      ]
     },
     "execution_count": 26,
     "metadata": {},
     "output_type": "execute_result"
    }
   ],
   "source": [
    "y2 = y2.reshape(-1,1)\n",
    "y2"
   ]
  },
  {
   "cell_type": "code",
   "execution_count": 27,
   "id": "12d042ca",
   "metadata": {},
   "outputs": [],
   "source": [
    "reg2 = LinearRegression()"
   ]
  },
  {
   "cell_type": "code",
   "execution_count": 28,
   "id": "3c42a9d4",
   "metadata": {},
   "outputs": [
    {
     "data": {
      "text/plain": [
       "LinearRegression()"
      ]
     },
     "execution_count": 28,
     "metadata": {},
     "output_type": "execute_result"
    }
   ],
   "source": [
    "reg2.fit(x2,y2)"
   ]
  },
  {
   "cell_type": "code",
   "execution_count": 29,
   "id": "d2c9a5d4",
   "metadata": {},
   "outputs": [
    {
     "data": {
      "text/plain": [
       "[<matplotlib.lines.Line2D at 0x18ac536a460>]"
      ]
     },
     "execution_count": 29,
     "metadata": {},
     "output_type": "execute_result"
    },
    {
     "data": {
      "image/png": "[encoded data removed]",
      "text/plain": [
       "<Figure size 432x288 with 1 Axes>"
      ]
     },
     "metadata": {
      "needs_background": "light"
     },
     "output_type": "display_data"
    }
   ],
   "source": [
    "plt.scatter(x2,y2,color = 'green')\n",
    "plt.plot(x2,reg2.predict(x2),color = 'red')"
   ]
  },
  {
   "cell_type": "markdown",
   "id": "86d80b29",
   "metadata": {},
   "source": [
    "# dt 3 (x^3),Sorting Time Prediction"
   ]
  },
  {
   "cell_type": "code",
   "execution_count": 20,
   "id": "1517c8df",
   "metadata": {},
   "outputs": [],
   "source": [
    "x3 = data['dt 3 (x^3)'].values\n",
    "y3 = data['Sorting Time'].values"
   ]
  },
  {
   "cell_type": "code",
   "execution_count": 22,
   "id": "d0ae7606",
   "metadata": {
    "collapsed": true
   },
   "outputs": [
    {
     "data": {
      "text/plain": [
       "array([[ 9261.      ],\n",
       "       [ 2460.375   ],\n",
       "       [ 7703.734375],\n",
       "       [13824.      ],\n",
       "       [24389.      ],\n",
       "       [ 3616.805375],\n",
       "       [ 6859.      ],\n",
       "       [  857.375   ],\n",
       "       [ 5735.339   ],\n",
       "       [ 6591.796875],\n",
       "       [ 7797.729087],\n",
       "       [ 1242.296875],\n",
       "       [ 4640.749632],\n",
       "       [ 1520.875   ],\n",
       "       [ 1740.992427],\n",
       "       [ 3294.646272],\n",
       "       [ 2599.609375],\n",
       "       [ 5939.574731],\n",
       "       [  512.      ],\n",
       "       [ 5668.315687],\n",
       "       [ 9938.375   ]])"
      ]
     },
     "execution_count": 22,
     "metadata": {},
     "output_type": "execute_result"
    }
   ],
   "source": [
    "x3 = x3.reshape(-1,1)\n",
    "x3"
   ]
  },
  {
   "cell_type": "code",
   "execution_count": 23,
   "id": "296460fa",
   "metadata": {
    "collapsed": true
   },
   "outputs": [
    {
     "data": {
      "text/plain": [
       "array([[10],\n",
       "       [ 4],\n",
       "       [ 6],\n",
       "       [ 9],\n",
       "       [10],\n",
       "       [ 6],\n",
       "       [ 7],\n",
       "       [ 3],\n",
       "       [10],\n",
       "       [ 9],\n",
       "       [ 8],\n",
       "       [ 4],\n",
       "       [ 7],\n",
       "       [ 3],\n",
       "       [ 3],\n",
       "       [ 4],\n",
       "       [ 6],\n",
       "       [ 7],\n",
       "       [ 2],\n",
       "       [ 7],\n",
       "       [ 5]], dtype=int64)"
      ]
     },
     "execution_count": 23,
     "metadata": {},
     "output_type": "execute_result"
    }
   ],
   "source": [
    "y3 = y3.reshape(-1,1)\n",
    "y3"
   ]
  },
  {
   "cell_type": "code",
   "execution_count": 30,
   "id": "222a65c6",
   "metadata": {},
   "outputs": [],
   "source": [
    "reg3= LinearRegression()"
   ]
  },
  {
   "cell_type": "code",
   "execution_count": 31,
   "id": "5ea0673b",
   "metadata": {},
   "outputs": [
    {
     "data": {
      "text/plain": [
       "LinearRegression()"
      ]
     },
     "execution_count": 31,
     "metadata": {},
     "output_type": "execute_result"
    }
   ],
   "source": [
    "reg3.fit(x3,y3)"
   ]
  },
  {
   "cell_type": "code",
   "execution_count": 33,
   "id": "6328dc7c",
   "metadata": {},
   "outputs": [
    {
     "data": {
      "text/plain": [
       "[<matplotlib.lines.Line2D at 0x18ac53e5d00>]"
      ]
     },
     "execution_count": 33,
     "metadata": {},
     "output_type": "execute_result"
    },
    {
     "data": {
      "image/png": "[encoded data removed]",
      "text/plain": [
       "<Figure size 432x288 with 1 Axes>"
      ]
     },
     "metadata": {
      "needs_background": "light"
     },
     "output_type": "display_data"
    }
   ],
   "source": [
    "plt.scatter(x3,y3,color = 'blue')\n",
    "plt.plot(x3,reg3.predict(x3),color='yellow')"
   ]
  },
  {
   "cell_type": "code",
   "execution_count": null,
   "id": "08e37f20",
   "metadata": {},
   "outputs": [],
   "source": []
  }
 ],
 "metadata": {
  "kernelspec": {
   "display_name": "Python 3 (ipykernel)",
   "language": "python",
   "name": "python3"
  },
  "language_info": {
   "codemirror_mode": {
    "name": "ipython",
    "version": 3
   },
   "file_extension": ".py",
   "mimetype": "text/x-python",
   "name": "python",
   "nbconvert_exporter": "python",
   "pygments_lexer": "ipython3",
   "version": "3.9.12"
  }
 },
 "nbformat": 4,
 "nbformat_minor": 5
}
